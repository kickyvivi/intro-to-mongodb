{
 "cells": [
  {
   "cell_type": "code",
   "execution_count": 11,
   "metadata": {},
   "outputs": [
    {
     "name": "stdout",
     "output_type": "stream",
     "text": [
      "list['min']\n",
      "{'180 min': 180}\n"
     ]
    }
   ],
   "source": [
    "import re\n",
    "\n",
    "fields_to_set = {}\n",
    "x = '180 min'\n",
    "a = re.compile(r'([0-9]+) (min)')\n",
    "\n",
    "if x:\n",
    "        m = a.match(x) \n",
    "        if m:\n",
    "            print(list[m.group(2)])\n",
    "            fields_to_set[x] = int(m.group(1))\n",
    "\n",
    "print(fields_to_set)"
   ]
  },
  {
   "cell_type": "code",
   "execution_count": null,
   "metadata": {},
   "outputs": [],
   "source": []
  }
 ],
 "metadata": {
  "kernelspec": {
   "display_name": "base",
   "language": "python",
   "name": "python3"
  },
  "language_info": {
   "codemirror_mode": {
    "name": "ipython",
    "version": 3
   },
   "file_extension": ".py",
   "mimetype": "text/x-python",
   "name": "python",
   "nbconvert_exporter": "python",
   "pygments_lexer": "ipython3",
   "version": "3.10.9"
  },
  "orig_nbformat": 4
 },
 "nbformat": 4,
 "nbformat_minor": 2
}
