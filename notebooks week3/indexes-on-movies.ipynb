{
 "cells": [
  {
   "cell_type": "markdown",
   "metadata": {},
   "source": [
    "Connect to MongoDB Atlas\n",
    "------------------------"
   ]
  },
  {
   "cell_type": "code",
   "execution_count": 1,
   "metadata": {
    "collapsed": true
   },
   "outputs": [],
   "source": [
    "import pymongo\n",
    "import pprint"
   ]
  },
  {
   "cell_type": "code",
   "execution_count": 2,
   "metadata": {
    "collapsed": true
   },
   "outputs": [],
   "source": [
    "# Replace XXXX with your connection URI from the Atlas UI\n",
    "uri = 'mongodb+srv://analytics:<password>@mflix.n69ze95.mongodb.net/test'\n",
    "mc = pymongo.MongoClient(uri)\n",
    "mflix = mc.mflix"
   ]
  },
  {
   "cell_type": "markdown",
   "metadata": {},
   "source": [
    "List Indexes\n",
    "-----------"
   ]
  },
  {
   "cell_type": "code",
   "execution_count": 3,
   "metadata": {
    "collapsed": true,
    "scrolled": true
   },
   "outputs": [
    {
     "name": "stdout",
     "output_type": "stream",
     "text": [
      "{'_id_': {'key': [('_id', 1)], 'v': 2}}\n"
     ]
    }
   ],
   "source": [
    "# get list of indexes on movies collection\n",
    "pprint.pprint(mflix.movies.index_information())"
   ]
  },
  {
   "cell_type": "code",
   "execution_count": 4,
   "metadata": {
    "collapsed": true
   },
   "outputs": [
    {
     "name": "stdout",
     "output_type": "stream",
     "text": [
      "{'_id': ObjectId('644aceb41b724f94b632287e'),\n",
      " 'cast': ['Carmencita'],\n",
      " 'countries': ['USA'],\n",
      " 'directors': ['William K.L. Dickson'],\n",
      " 'fullPlot': 'Performing on what looks like a small wooden stage, wearing a '\n",
      "             'dress with a hoop skirt and white high-heeled pumps, Carmencita '\n",
      "             'does a dance with kicks and twirls, a smile always on her face.',\n",
      " 'genres': ['Documentary', 'Short'],\n",
      " 'imdb': {'id': 1, 'rating': 5.9, 'votes': 1032},\n",
      " 'lastupdated': '2015-08-26 00:03:45.040000000',\n",
      " 'plot': 'Performing on what looks like a small wooden stage, wearing a dress '\n",
      "         'with a hoop skirt and white high-heeled pumps, Carmencita does a '\n",
      "         'dance with kicks and twirls, a smile always on her face.',\n",
      " 'poster': 'https://m.media-amazon.com/images/M/MV5BMjAzNDEwMzk3OV5BMl5BanBnXkFtZTcwOTk4OTM5Ng@@._V1_SX300.jpg',\n",
      " 'rated': 'NOT RATED',\n",
      " 'runtime': 1,\n",
      " 'title': 'Carmencita',\n",
      " 'type': 'movie',\n",
      " 'year': 1894}\n"
     ]
    }
   ],
   "source": [
    "pprint.pprint(mflix.movies.find_one())"
   ]
  },
  {
   "cell_type": "markdown",
   "metadata": {},
   "source": [
    "Explain a Query\n",
    "--------------"
   ]
  },
  {
   "cell_type": "code",
   "execution_count": 5,
   "metadata": {
    "collapsed": true,
    "scrolled": true
   },
   "outputs": [
    {
     "data": {
      "text/plain": [
       "{'explainVersion': '1',\n",
       " 'queryPlanner': {'namespace': 'mflix.movies',\n",
       "  'indexFilterSet': False,\n",
       "  'parsedQuery': {'tomatoes.viewer.numReviews': {'$gt': 10}},\n",
       "  'queryHash': '412E8BA6',\n",
       "  'planCacheKey': '412E8BA6',\n",
       "  'maxIndexedOrSolutionsReached': False,\n",
       "  'maxIndexedAndSolutionsReached': False,\n",
       "  'maxScansToExplodeReached': False,\n",
       "  'winningPlan': {'stage': 'COLLSCAN',\n",
       "   'filter': {'tomatoes.viewer.numReviews': {'$gt': 10}},\n",
       "   'direction': 'forward'},\n",
       "  'rejectedPlans': []},\n",
       " 'executionStats': {'executionSuccess': True,\n",
       "  'nReturned': 0,\n",
       "  'executionTimeMillis': 160,\n",
       "  'totalKeysExamined': 0,\n",
       "  'totalDocsExamined': 46014,\n",
       "  'executionStages': {'stage': 'COLLSCAN',\n",
       "   'filter': {'tomatoes.viewer.numReviews': {'$gt': 10}},\n",
       "   'nReturned': 0,\n",
       "   'executionTimeMillisEstimate': 70,\n",
       "   'works': 46016,\n",
       "   'advanced': 0,\n",
       "   'needTime': 46015,\n",
       "   'needYield': 0,\n",
       "   'saveState': 46,\n",
       "   'restoreState': 46,\n",
       "   'isEOF': 1,\n",
       "   'direction': 'forward',\n",
       "   'docsExamined': 46014}},\n",
       " 'command': {'find': 'movies',\n",
       "  'filter': {'tomatoes.viewer.numReviews': {'$gt': 10}},\n",
       "  '$db': 'mflix'},\n",
       " 'serverInfo': {'host': 'ac-mn14dpy-shard-00-01.n69ze95.mongodb.net',\n",
       "  'port': 27017,\n",
       "  'version': '6.0.5',\n",
       "  'gitVersion': 'c9a99c120371d4d4c52cbb15dac34a36ce8d3b1d'},\n",
       " 'serverParameters': {'internalQueryFacetBufferSizeBytes': 104857600,\n",
       "  'internalQueryFacetMaxOutputDocSizeBytes': 104857600,\n",
       "  'internalLookupStageIntermediateDocumentMaxSizeBytes': 16793600,\n",
       "  'internalDocumentSourceGroupMaxMemoryBytes': 104857600,\n",
       "  'internalQueryMaxBlockingSortMemoryUsageBytes': 33554432,\n",
       "  'internalQueryProhibitBlockingMergeOnMongoS': 0,\n",
       "  'internalQueryMaxAddToSetBytes': 104857600,\n",
       "  'internalDocumentSourceSetWindowFieldsMaxMemoryBytes': 104857600},\n",
       " 'ok': 1.0,\n",
       " '$clusterTime': {'clusterTime': Timestamp(1682844408, 8),\n",
       "  'signature': {'hash': b'\\x92gT\\xce\\x89\\x0c\\x87\\xf7\\xfe!\\x8cC\\xeeB\\x0e\\xadG\\x01\\xd6\\x82',\n",
       "   'keyId': 7161371681292812292}},\n",
       " 'operationTime': Timestamp(1682844408, 8)}"
      ]
     },
     "execution_count": 5,
     "metadata": {},
     "output_type": "execute_result"
    }
   ],
   "source": [
    "explain = {\n",
    "    \"explain\": {\n",
    "        \"find\": \"movies\",\n",
    "        \"filter\": {\n",
    "            \"tomatoes.viewer.numReviews\": {\"$gt\": 10}\n",
    "        },\n",
    "    },\n",
    "    \"verbosity\": \"executionStats\"\n",
    "}\n",
    "mflix.command(explain)"
   ]
  },
  {
   "cell_type": "markdown",
   "metadata": {},
   "source": [
    "Text Search vs Exact Match\n",
    "-------------------------"
   ]
  },
  {
   "cell_type": "code",
   "execution_count": 6,
   "metadata": {
    "collapsed": true
   },
   "outputs": [
    {
     "name": "stdout",
     "output_type": "stream",
     "text": [
      "'Titanic'\n",
      "'Titanic'\n",
      "'Titanic'\n"
     ]
    }
   ],
   "source": [
    "filters = {\"title\": \"Titanic\"}\n",
    "for m in mflix.movies.find(filters):\n",
    "    pprint.pprint(m['title'])"
   ]
  },
  {
   "cell_type": "code",
   "execution_count": 7,
   "metadata": {
    "collapsed": true
   },
   "outputs": [
    {
     "ename": "OperationFailure",
     "evalue": "text index required for $text query, full error: {'ok': 0.0, 'errmsg': 'text index required for $text query', 'code': 27, 'codeName': 'IndexNotFound', '$clusterTime': {'clusterTime': Timestamp(1682844448, 1), 'signature': {'hash': b'A\\x0bKu)Q\\x8d\\x10a\\x8e:\\x16cx\\x11L\\xc1\\\\\\x7f\\x8e', 'keyId': 7161371681292812292}}, 'operationTime': Timestamp(1682844448, 1)}",
     "output_type": "error",
     "traceback": [
      "\u001b[1;31m---------------------------------------------------------------------------\u001b[0m",
      "\u001b[1;31mOperationFailure\u001b[0m                          Traceback (most recent call last)",
      "Cell \u001b[1;32mIn[7], line 4\u001b[0m\n\u001b[0;32m      1\u001b[0m filters \u001b[39m=\u001b[39m { \u001b[39m\"\u001b[39m\u001b[39m$text\u001b[39m\u001b[39m\"\u001b[39m: { \n\u001b[0;32m      2\u001b[0m     \u001b[39m\"\u001b[39m\u001b[39m$search\u001b[39m\u001b[39m\"\u001b[39m: \u001b[39m\"\u001b[39m\u001b[39mtitanic\u001b[39m\u001b[39m\"\u001b[39m\n\u001b[0;32m      3\u001b[0m }} \n\u001b[1;32m----> 4\u001b[0m \u001b[39mfor\u001b[39;00m m \u001b[39min\u001b[39;00m mflix\u001b[39m.\u001b[39mmovies\u001b[39m.\u001b[39mfind(filters):\n\u001b[0;32m      5\u001b[0m     pprint\u001b[39m.\u001b[39mpprint(m[\u001b[39m'\u001b[39m\u001b[39mtitle\u001b[39m\u001b[39m'\u001b[39m])\n\u001b[0;32m      6\u001b[0m     pprint\u001b[39m.\u001b[39mpprint(m[\u001b[39m'\u001b[39m\u001b[39mcast\u001b[39m\u001b[39m'\u001b[39m])\n",
      "File \u001b[1;32mc:\\Users\\kicky\\anaconda3\\lib\\site-packages\\pymongo\\cursor.py:1248\u001b[0m, in \u001b[0;36mCursor.next\u001b[1;34m(self)\u001b[0m\n\u001b[0;32m   1246\u001b[0m \u001b[39mif\u001b[39;00m \u001b[39mself\u001b[39m\u001b[39m.\u001b[39m__empty:\n\u001b[0;32m   1247\u001b[0m     \u001b[39mraise\u001b[39;00m \u001b[39mStopIteration\u001b[39;00m\n\u001b[1;32m-> 1248\u001b[0m \u001b[39mif\u001b[39;00m \u001b[39mlen\u001b[39m(\u001b[39mself\u001b[39m\u001b[39m.\u001b[39m__data) \u001b[39mor\u001b[39;00m \u001b[39mself\u001b[39;49m\u001b[39m.\u001b[39;49m_refresh():\n\u001b[0;32m   1249\u001b[0m     \u001b[39mreturn\u001b[39;00m \u001b[39mself\u001b[39m\u001b[39m.\u001b[39m__data\u001b[39m.\u001b[39mpopleft()\n\u001b[0;32m   1250\u001b[0m \u001b[39melse\u001b[39;00m:\n",
      "File \u001b[1;32mc:\\Users\\kicky\\anaconda3\\lib\\site-packages\\pymongo\\cursor.py:1165\u001b[0m, in \u001b[0;36mCursor._refresh\u001b[1;34m(self)\u001b[0m\n\u001b[0;32m   1143\u001b[0m         \u001b[39mraise\u001b[39;00m InvalidOperation(\n\u001b[0;32m   1144\u001b[0m             \u001b[39m\"\u001b[39m\u001b[39mPassing a \u001b[39m\u001b[39m'\u001b[39m\u001b[39mhint\u001b[39m\u001b[39m'\u001b[39m\u001b[39m is required when using the min/max query\u001b[39m\u001b[39m\"\u001b[39m\n\u001b[0;32m   1145\u001b[0m             \u001b[39m\"\u001b[39m\u001b[39m option to ensure the query utilizes the correct index\u001b[39m\u001b[39m\"\u001b[39m\n\u001b[0;32m   1146\u001b[0m         )\n\u001b[0;32m   1147\u001b[0m     q \u001b[39m=\u001b[39m \u001b[39mself\u001b[39m\u001b[39m.\u001b[39m_query_class(\n\u001b[0;32m   1148\u001b[0m         \u001b[39mself\u001b[39m\u001b[39m.\u001b[39m__query_flags,\n\u001b[0;32m   1149\u001b[0m         \u001b[39mself\u001b[39m\u001b[39m.\u001b[39m__collection\u001b[39m.\u001b[39mdatabase\u001b[39m.\u001b[39mname,\n\u001b[1;32m   (...)\u001b[0m\n\u001b[0;32m   1163\u001b[0m         \u001b[39mself\u001b[39m\u001b[39m.\u001b[39m__exhaust,\n\u001b[0;32m   1164\u001b[0m     )\n\u001b[1;32m-> 1165\u001b[0m     \u001b[39mself\u001b[39;49m\u001b[39m.\u001b[39;49m__send_message(q)\n\u001b[0;32m   1166\u001b[0m \u001b[39melif\u001b[39;00m \u001b[39mself\u001b[39m\u001b[39m.\u001b[39m__id:  \u001b[39m# Get More\u001b[39;00m\n\u001b[0;32m   1167\u001b[0m     \u001b[39mif\u001b[39;00m \u001b[39mself\u001b[39m\u001b[39m.\u001b[39m__limit:\n",
      "File \u001b[1;32mc:\\Users\\kicky\\anaconda3\\lib\\site-packages\\pymongo\\cursor.py:1052\u001b[0m, in \u001b[0;36mCursor.__send_message\u001b[1;34m(self, operation)\u001b[0m\n\u001b[0;32m   1049\u001b[0m     \u001b[39mraise\u001b[39;00m InvalidOperation(\u001b[39m\"\u001b[39m\u001b[39mexhaust cursors do not support auto encryption\u001b[39m\u001b[39m\"\u001b[39m)\n\u001b[0;32m   1051\u001b[0m \u001b[39mtry\u001b[39;00m:\n\u001b[1;32m-> 1052\u001b[0m     response \u001b[39m=\u001b[39m client\u001b[39m.\u001b[39;49m_run_operation(\n\u001b[0;32m   1053\u001b[0m         operation, \u001b[39mself\u001b[39;49m\u001b[39m.\u001b[39;49m_unpack_response, address\u001b[39m=\u001b[39;49m\u001b[39mself\u001b[39;49m\u001b[39m.\u001b[39;49m__address\n\u001b[0;32m   1054\u001b[0m     )\n\u001b[0;32m   1055\u001b[0m \u001b[39mexcept\u001b[39;00m OperationFailure \u001b[39mas\u001b[39;00m exc:\n\u001b[0;32m   1056\u001b[0m     \u001b[39mif\u001b[39;00m exc\u001b[39m.\u001b[39mcode \u001b[39min\u001b[39;00m _CURSOR_CLOSED_ERRORS \u001b[39mor\u001b[39;00m \u001b[39mself\u001b[39m\u001b[39m.\u001b[39m__exhaust:\n\u001b[0;32m   1057\u001b[0m         \u001b[39m# Don't send killCursors because the cursor is already closed.\u001b[39;00m\n",
      "File \u001b[1;32mc:\\Users\\kicky\\anaconda3\\lib\\site-packages\\pymongo\\_csot.py:105\u001b[0m, in \u001b[0;36mapply.<locals>.csot_wrapper\u001b[1;34m(self, *args, **kwargs)\u001b[0m\n\u001b[0;32m    103\u001b[0m         \u001b[39mwith\u001b[39;00m _TimeoutContext(timeout):\n\u001b[0;32m    104\u001b[0m             \u001b[39mreturn\u001b[39;00m func(\u001b[39mself\u001b[39m, \u001b[39m*\u001b[39margs, \u001b[39m*\u001b[39m\u001b[39m*\u001b[39mkwargs)\n\u001b[1;32m--> 105\u001b[0m \u001b[39mreturn\u001b[39;00m func(\u001b[39mself\u001b[39m, \u001b[39m*\u001b[39margs, \u001b[39m*\u001b[39m\u001b[39m*\u001b[39mkwargs)\n",
      "File \u001b[1;32mc:\\Users\\kicky\\anaconda3\\lib\\site-packages\\pymongo\\mongo_client.py:1330\u001b[0m, in \u001b[0;36mMongoClient._run_operation\u001b[1;34m(self, operation, unpack_res, address)\u001b[0m\n\u001b[0;32m   1325\u001b[0m     operation\u001b[39m.\u001b[39mreset()  \u001b[39m# Reset op in case of retry.\u001b[39;00m\n\u001b[0;32m   1326\u001b[0m     \u001b[39mreturn\u001b[39;00m server\u001b[39m.\u001b[39mrun_operation(\n\u001b[0;32m   1327\u001b[0m         sock_info, operation, read_preference, \u001b[39mself\u001b[39m\u001b[39m.\u001b[39m_event_listeners, unpack_res\n\u001b[0;32m   1328\u001b[0m     )\n\u001b[1;32m-> 1330\u001b[0m \u001b[39mreturn\u001b[39;00m \u001b[39mself\u001b[39;49m\u001b[39m.\u001b[39;49m_retryable_read(\n\u001b[0;32m   1331\u001b[0m     _cmd,\n\u001b[0;32m   1332\u001b[0m     operation\u001b[39m.\u001b[39;49mread_preference,\n\u001b[0;32m   1333\u001b[0m     operation\u001b[39m.\u001b[39;49msession,\n\u001b[0;32m   1334\u001b[0m     address\u001b[39m=\u001b[39;49maddress,\n\u001b[0;32m   1335\u001b[0m     retryable\u001b[39m=\u001b[39;49m\u001b[39misinstance\u001b[39;49m(operation, message\u001b[39m.\u001b[39;49m_Query),\n\u001b[0;32m   1336\u001b[0m )\n",
      "File \u001b[1;32mc:\\Users\\kicky\\anaconda3\\lib\\site-packages\\pymongo\\_csot.py:105\u001b[0m, in \u001b[0;36mapply.<locals>.csot_wrapper\u001b[1;34m(self, *args, **kwargs)\u001b[0m\n\u001b[0;32m    103\u001b[0m         \u001b[39mwith\u001b[39;00m _TimeoutContext(timeout):\n\u001b[0;32m    104\u001b[0m             \u001b[39mreturn\u001b[39;00m func(\u001b[39mself\u001b[39m, \u001b[39m*\u001b[39margs, \u001b[39m*\u001b[39m\u001b[39m*\u001b[39mkwargs)\n\u001b[1;32m--> 105\u001b[0m \u001b[39mreturn\u001b[39;00m func(\u001b[39mself\u001b[39m, \u001b[39m*\u001b[39margs, \u001b[39m*\u001b[39m\u001b[39m*\u001b[39mkwargs)\n",
      "File \u001b[1;32mc:\\Users\\kicky\\anaconda3\\lib\\site-packages\\pymongo\\mongo_client.py:1448\u001b[0m, in \u001b[0;36mMongoClient._retryable_read\u001b[1;34m(self, func, read_pref, session, address, retryable)\u001b[0m\n\u001b[0;32m   1446\u001b[0m             \u001b[39massert\u001b[39;00m last_error \u001b[39mis\u001b[39;00m \u001b[39mnot\u001b[39;00m \u001b[39mNone\u001b[39;00m\n\u001b[0;32m   1447\u001b[0m             \u001b[39mraise\u001b[39;00m last_error\n\u001b[1;32m-> 1448\u001b[0m         \u001b[39mreturn\u001b[39;00m func(session, server, sock_info, read_pref)\n\u001b[0;32m   1449\u001b[0m \u001b[39mexcept\u001b[39;00m ServerSelectionTimeoutError:\n\u001b[0;32m   1450\u001b[0m     \u001b[39mif\u001b[39;00m retrying:\n\u001b[0;32m   1451\u001b[0m         \u001b[39m# The application may think the write was never attempted\u001b[39;00m\n\u001b[0;32m   1452\u001b[0m         \u001b[39m# if we raise ServerSelectionTimeoutError on the retry\u001b[39;00m\n\u001b[0;32m   1453\u001b[0m         \u001b[39m# attempt. Raise the original exception instead.\u001b[39;00m\n",
      "File \u001b[1;32mc:\\Users\\kicky\\anaconda3\\lib\\site-packages\\pymongo\\mongo_client.py:1326\u001b[0m, in \u001b[0;36mMongoClient._run_operation.<locals>._cmd\u001b[1;34m(session, server, sock_info, read_preference)\u001b[0m\n\u001b[0;32m   1324\u001b[0m \u001b[39mdef\u001b[39;00m \u001b[39m_cmd\u001b[39m(session, server, sock_info, read_preference):\n\u001b[0;32m   1325\u001b[0m     operation\u001b[39m.\u001b[39mreset()  \u001b[39m# Reset op in case of retry.\u001b[39;00m\n\u001b[1;32m-> 1326\u001b[0m     \u001b[39mreturn\u001b[39;00m server\u001b[39m.\u001b[39;49mrun_operation(\n\u001b[0;32m   1327\u001b[0m         sock_info, operation, read_preference, \u001b[39mself\u001b[39;49m\u001b[39m.\u001b[39;49m_event_listeners, unpack_res\n\u001b[0;32m   1328\u001b[0m     )\n",
      "File \u001b[1;32mc:\\Users\\kicky\\anaconda3\\lib\\site-packages\\pymongo\\server.py:134\u001b[0m, in \u001b[0;36mServer.run_operation\u001b[1;34m(self, sock_info, operation, read_preference, listeners, unpack_res)\u001b[0m\n\u001b[0;32m    132\u001b[0m         first \u001b[39m=\u001b[39m docs[\u001b[39m0\u001b[39m]\n\u001b[0;32m    133\u001b[0m         operation\u001b[39m.\u001b[39mclient\u001b[39m.\u001b[39m_process_response(first, operation\u001b[39m.\u001b[39msession)\n\u001b[1;32m--> 134\u001b[0m         _check_command_response(first, sock_info\u001b[39m.\u001b[39;49mmax_wire_version)\n\u001b[0;32m    135\u001b[0m \u001b[39mexcept\u001b[39;00m \u001b[39mException\u001b[39;00m \u001b[39mas\u001b[39;00m exc:\n\u001b[0;32m    136\u001b[0m     \u001b[39mif\u001b[39;00m publish:\n",
      "File \u001b[1;32mc:\\Users\\kicky\\anaconda3\\lib\\site-packages\\pymongo\\helpers.py:181\u001b[0m, in \u001b[0;36m_check_command_response\u001b[1;34m(response, max_wire_version, allowable_errors, parse_write_concern_error)\u001b[0m\n\u001b[0;32m    178\u001b[0m \u001b[39melif\u001b[39;00m code \u001b[39m==\u001b[39m \u001b[39m43\u001b[39m:\n\u001b[0;32m    179\u001b[0m     \u001b[39mraise\u001b[39;00m CursorNotFound(errmsg, code, response, max_wire_version)\n\u001b[1;32m--> 181\u001b[0m \u001b[39mraise\u001b[39;00m OperationFailure(errmsg, code, response, max_wire_version)\n",
      "\u001b[1;31mOperationFailure\u001b[0m: text index required for $text query, full error: {'ok': 0.0, 'errmsg': 'text index required for $text query', 'code': 27, 'codeName': 'IndexNotFound', '$clusterTime': {'clusterTime': Timestamp(1682844448, 1), 'signature': {'hash': b'A\\x0bKu)Q\\x8d\\x10a\\x8e:\\x16cx\\x11L\\xc1\\\\\\x7f\\x8e', 'keyId': 7161371681292812292}}, 'operationTime': Timestamp(1682844448, 1)}"
     ]
    }
   ],
   "source": [
    "filters = { \"$text\": { \n",
    "    \"$search\": \"titanic\"\n",
    "}} \n",
    "for m in mflix.movies.find(filters):\n",
    "    pprint.pprint(m['title'])\n",
    "    pprint.pprint(m['cast'])\n",
    "    pprint.pprint(m.get('directors', \"\"))\n",
    "    pprint.pprint(\"======\")"
   ]
  },
  {
   "cell_type": "markdown",
   "metadata": {},
   "source": [
    "Create an Index\n",
    "--------------"
   ]
  },
  {
   "cell_type": "code",
   "execution_count": 8,
   "metadata": {
    "collapsed": true
   },
   "outputs": [
    {
     "data": {
      "text/plain": [
       "'countries_1'"
      ]
     },
     "execution_count": 8,
     "metadata": {},
     "output_type": "execute_result"
    }
   ],
   "source": [
    "mflix.movies.create_index([(\"countries\", pymongo.ASCENDING)])"
   ]
  }
 ],
 "metadata": {
  "kernelspec": {
   "display_name": "Python 3",
   "language": "python",
   "name": "python3"
  },
  "language_info": {
   "codemirror_mode": {
    "name": "ipython",
    "version": 3
   },
   "file_extension": ".py",
   "mimetype": "text/x-python",
   "name": "python",
   "nbconvert_exporter": "python",
   "pygments_lexer": "ipython3",
   "version": "3.10.9"
  }
 },
 "nbformat": 4,
 "nbformat_minor": 2
}
